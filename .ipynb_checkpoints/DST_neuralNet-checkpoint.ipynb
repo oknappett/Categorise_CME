{
 "cells": [
  {
   "cell_type": "markdown",
   "id": "be833e70-1eb0-488a-a2d1-1fd270823cb4",
   "metadata": {},
   "source": [
    "# Categorising CME events by the DST reading using a neural network"
   ]
  },
  {
   "cell_type": "markdown",
   "id": "1d076c9a-401e-4249-b876-a296f9698a9a",
   "metadata": {},
   "source": [
    "## The Data\n",
    "The data has been collected from [OMNIWeb](https://omniweb.gsfc.nasa.gov/form/dx1.html) \n",
    "\n",
    "- Date: The UTC date for when the CME was detected in Space\n",
    "- Time: UTC time of detection \n",
    "- DST: Disturbance Storm Time measured in nT \n",
    "- Disturbance_date: The date when detected on earth\n",
    "    - This gets encoded into 1 (>100nT) and 0 (<100nT) into the Dst_label column\n",
    "    - This is the 'Label', 1 or 0\n",
    "- Disturbance_time: The time when detected on earth\n",
    "\n",
    "There are then 23 measured parameters for the:\n",
    "- Magnetic field\n",
    "    - B(IMF): IMF magnitude average , nT\n",
    "    - Vector_B: Magnitude, Avg IMF, nT\n",
    "    - Lat_angle_B: Latitude of average IMF, degrees\n",
    "    - Long_angle_B: Longitude of average IMF, degrees\n",
    "    - Bz(GCE): \n",
    "    - Bz(GSM): z component of Geocentric Solar Magnetospheric\n",
    "    - RMS_magnitude: error of magnetic field\n",
    "    - RMS_field_vector: error of field vector\n",
    "    - RMS_BZ_GSE: error of z component of GSE field\n",
    "- Plasma\n",
    "    - Plasma_Temp: temperature of plasma\n",
    "    - Proton_Density: the density of protons in the cme\n",
    "    - Plasma_speed: speed of plasma\n",
    "    - Alpha/proton: ratio of alpha particles to protons\n",
    "    - sigma-T \n",
    "    - sigma-n\n",
    "    - sigma-V\n",
    "    - sigma-ratio\n",
    "    - flow_pressure: The pressure\n",
    "    - E_field: electric field\n",
    "    - Plasma_beta\n",
    "- Indices\n",
    "    - Kp_index\n",
    "    - Ap_index \n",
    "\n",
    "## The labels\n",
    "The labels are based off the DST value of the event. A different DST value will cause different types of geomagnetic storms when the event reaches earth.\n",
    "- 50 -100 is moderate -> label is 0 (not geoeffective)\n",
    "- 100- 250 is storm -> label is 1 (geoeffective)\n",
    "- 250+ is extreme -> label is 2 (extremely geoeffective)"
   ]
  },
  {
   "cell_type": "markdown",
   "id": "7a701d77-ff49-440c-b4fb-48628b7d52f2",
   "metadata": {},
   "source": [
    "## The Data"
   ]
  },
  {
   "cell_type": "code",
   "execution_count": 8,
   "id": "aa1527a2-5820-4990-ae91-6c70359cef28",
   "metadata": {},
   "outputs": [
    {
     "name": "stdout",
     "output_type": "stream",
     "text": [
      "              DST      B(IMF)    Vector_B  Lat_angle_B  Long_angle_B  \\\n",
      "count  310.000000  310.000000  310.000000   310.000000    310.000000   \n",
      "mean   -72.568383   11.077097    9.773226   -15.341290    192.394194   \n",
      "std     64.242992    6.969821    6.696144    29.962048    102.219610   \n",
      "min   -420.851064    3.100000    0.600000   -82.000000      0.600000   \n",
      "25%    -87.500000    6.400000    5.325000   -37.575000    113.875000   \n",
      "50%    -52.500000    8.900000    7.700000   -14.400000    159.850000   \n",
      "75%    -32.500000   13.575000   12.175000     3.100000    296.425000   \n",
      "max    -12.500000   54.800000   53.300000    77.900000    358.900000   \n",
      "\n",
      "          Bz(GSE)     Bz(GSM)  RMS_magnitude  RMS_field_vector  RMS_BZ_GSE  \\\n",
      "count  310.000000  310.000000     310.000000        310.000000  310.000000   \n",
      "mean    -2.340645   -2.904194       0.751290          3.895161    2.514516   \n",
      "std      5.527222    5.834543       1.104294          3.767869    2.619410   \n",
      "min    -20.800000  -26.600000       0.000000          0.600000    0.100000   \n",
      "25%     -4.675000   -5.100000       0.200000          1.800000    1.000000   \n",
      "50%     -1.950000   -2.600000       0.400000          2.700000    1.700000   \n",
      "75%      0.375000    0.200000       0.775000          4.300000    3.000000   \n",
      "max     16.500000   20.400000       8.000000         26.200000   20.500000   \n",
      "\n",
      "       ...  Alpha/proton       sigma-T     sigma-n      sigma-V  sigma-ratio  \\\n",
      "count  ...    310.000000  3.100000e+02  310.000000   310.000000   310.000000   \n",
      "mean   ...      1.432071  1.965056e+05   20.738710   106.516129     1.395990   \n",
      "std    ...      3.443682  1.260407e+06  137.810845   979.521714     3.458062   \n",
      "min    ...      0.007000  0.000000e+00    0.000000     0.000000     0.000000   \n",
      "25%    ...      0.033250  8.780750e+03    0.300000     5.000000     0.004000   \n",
      "50%    ...      0.050000  1.634700e+04    0.700000     8.000000     0.008000   \n",
      "75%    ...      0.086250  3.310100e+04    1.500000    12.000000     0.020000   \n",
      "max    ...      9.999000  1.000000e+07  999.900000  9999.000000     9.999000   \n",
      "\n",
      "       flow_pressure     E_field  Plasma_beta    Kp_index    Ap_index  \n",
      "count     310.000000  310.000000   310.000000  310.000000  310.000000  \n",
      "mean        5.453387   11.094871    20.313516   43.929032   53.912903  \n",
      "std        14.209490   97.973791   137.858236   18.698635   63.140175  \n",
      "min         0.160000  -14.790000     0.020000    0.000000    0.000000  \n",
      "25%         1.470000   -0.105000     0.400000   30.000000   15.000000  \n",
      "50%         2.445000    1.110000     0.810000   43.000000   32.000000  \n",
      "75%         4.187500    2.635000     1.337500   57.000000   67.000000  \n",
      "max        99.990000  999.990000   999.990000   90.000000  400.000000  \n",
      "\n",
      "[8 rows x 23 columns]\n"
     ]
    }
   ],
   "source": [
    "import pandas as pd \n",
    "\n",
    "data = pd.read_csv('dst_events.csv', index_col = 'Date')\n",
    "data = data.dropna()\n",
    "print(data.describe())"
   ]
  },
  {
   "cell_type": "code",
   "execution_count": null,
   "id": "9d1935cc-17df-42a4-9127-e88a95b0d742",
   "metadata": {},
   "outputs": [],
   "source": [
    "# encode the DST values"
   ]
  }
 ],
 "metadata": {
  "kernelspec": {
   "display_name": "Python 3 (ipykernel)",
   "language": "python",
   "name": "python3"
  },
  "language_info": {
   "codemirror_mode": {
    "name": "ipython",
    "version": 3
   },
   "file_extension": ".py",
   "mimetype": "text/x-python",
   "name": "python",
   "nbconvert_exporter": "python",
   "pygments_lexer": "ipython3",
   "version": "3.10.5"
  }
 },
 "nbformat": 4,
 "nbformat_minor": 5
}
